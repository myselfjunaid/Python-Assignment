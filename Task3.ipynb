{
 "cells": [
  {
   "cell_type": "code",
   "execution_count": 7,
   "metadata": {},
   "outputs": [
    {
     "name": "stdout",
     "output_type": "stream",
     "text": [
      "enter operator**\n",
      "enter first value2\n",
      "enter second value3\n",
      "2.0  **  3.0  =  8.0\n"
     ]
    }
   ],
   "source": [
    "operator=input(\"enter operator\")\n",
    "num1=float(input(\"enter first value\"))\n",
    "num2=float(input(\"enter second value\"))\n",
    "\n",
    "\n",
    "if operator == '+':\n",
    "    res=num1+num2\n",
    "    print(num1,\" + \",num2,\" = \",res)\n",
    "elif operator == '-':\n",
    "    res=num1-num2\n",
    "    print(num1,\" - \",num2,\" = \",res)\n",
    "elif operator == '*':\n",
    "    res=num1*num2\n",
    "    print(num1,\" * \",num2,\" = \",res)\n",
    "elif operator == '/':\n",
    "    res=num1//num2\n",
    "    print(num1,\" / \",num2,\" = \",res)\n",
    "elif operator == '**':\n",
    "    res=num1**num2\n",
    "    print(num1,\" ** \",num2,\" = \",res)"
   ]
  },
  {
   "cell_type": "code",
   "execution_count": 17,
   "metadata": {},
   "outputs": [
    {
     "name": "stdout",
     "output_type": "stream",
     "text": [
      "numeric values in list are :  ['1', '2', '3', '4']\n"
     ]
    }
   ],
   "source": [
    "mylist=['1','orange','2','3','4','apple']\n",
    "mynewlist = [s for s in mylist if s.isdigit()]\n",
    "\n",
    "print(\"numeric values in list are : \",mynewlist)"
   ]
  },
  {
   "cell_type": "code",
   "execution_count": 19,
   "metadata": {},
   "outputs": [
    {
     "name": "stdout",
     "output_type": "stream",
     "text": [
      "{'name': 'demo', 'email': 'demo@gmail.com'}\n",
      "{'name': 'demo', 'email': 'demo@gmail.com', 'Phone': '090078601'}\n"
     ]
    }
   ],
   "source": [
    "Student = {\"name\":\"demo\", \"email\":\"demo@gmail.com\"}  \n",
    "print(Student)  \n",
    "Student.update({\"Phone\":\"090078601\"})  \n",
    "print(Student)"
   ]
  },
  {
   "cell_type": "code",
   "execution_count": 24,
   "metadata": {},
   "outputs": [
    {
     "name": "stdout",
     "output_type": "stream",
     "text": [
      "70\n"
     ]
    }
   ],
   "source": [
    "dict = {'a': 20, 'b':20, 'c':30} \n",
    "sum = 0\n",
    "for i in dict:\n",
    "    sum = sum + dict[i]\n",
    "    \n",
    "print(sum)\n"
   ]
  },
  {
   "cell_type": "code",
   "execution_count": 31,
   "metadata": {},
   "outputs": [
    {
     "name": "stdout",
     "output_type": "stream",
     "text": [
      "Dulicate values [5, 2]\n"
     ]
    }
   ],
   "source": [
    "list_a=[1,2,3,5,6,7,5,2] \n",
    "holding_list=[]\n",
    "holding_list2=[]\n",
    "\n",
    "for x in list_a:\n",
    "    if x in holding_list:\n",
    "        holding_list2.append(x)        \n",
    "        pass\n",
    "    else:\n",
    "        holding_list.append(x)\n",
    "\n",
    "print (\"Dulicate values\",holding_list2)"
   ]
  },
  {
   "cell_type": "code",
   "execution_count": 36,
   "metadata": {},
   "outputs": [
    {
     "name": "stdout",
     "output_type": "stream",
     "text": [
      "Enter key to check:D\n",
      "Key isn't present!\n"
     ]
    }
   ],
   "source": [
    "d={'A':1,'B':2,'C':3}\n",
    "key=input(\"Enter key to check:\")\n",
    "if key in d.keys():\n",
    "      print(\"Key is present and value of the key is:\")\n",
    "      print(d[key])\n",
    "else:\n",
    "      print(\"Key isn't present!\")"
   ]
  },
  {
   "cell_type": "code",
   "execution_count": null,
   "metadata": {},
   "outputs": [],
   "source": []
  }
 ],
 "metadata": {
  "kernelspec": {
   "display_name": "Python 3",
   "language": "python",
   "name": "python3"
  },
  "language_info": {
   "codemirror_mode": {
    "name": "ipython",
    "version": 3
   },
   "file_extension": ".py",
   "mimetype": "text/x-python",
   "name": "python",
   "nbconvert_exporter": "python",
   "pygments_lexer": "ipython3",
   "version": "3.7.4"
  }
 },
 "nbformat": 4,
 "nbformat_minor": 2
}
