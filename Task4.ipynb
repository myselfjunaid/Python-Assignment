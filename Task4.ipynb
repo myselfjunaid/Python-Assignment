{
 "cells": [
  {
   "cell_type": "code",
   "execution_count": 1,
   "metadata": {},
   "outputs": [
    {
     "name": "stdout",
     "output_type": "stream",
     "text": [
      "first_name   Junaid\n",
      "last_name   Muhammad\n",
      "Age   19\n",
      "City   Karachi\n",
      "\n",
      "\n",
      "\n",
      "first_name   Junaid\n",
      "last_name   Muhammad\n",
      "Age   19\n",
      "City   Karachi\n",
      "Qualification   Intermediate\n",
      "\n",
      "\n",
      "\n",
      "first_name   Junaid\n",
      "last_name   Muhammad\n",
      "Age   19\n",
      "City   Karachi\n",
      "Qualification   High Academic Level\n",
      "\n",
      "\n",
      "\n",
      "first_name   Junaid\n",
      "last_name   Muhammad\n",
      "Age   19\n",
      "City   Karachi\n"
     ]
    }
   ],
   "source": [
    "dit = {'first_name' : 'Junaid', 'last_name' : 'Muhammad', 'Age': '19','City': 'Karachi'}\n",
    "for key,value in dit.items():\n",
    "  print(key,\" \",value)\n",
    "print(\"\\n\\n\")  \n",
    "dit.update({'Qualification' : 'Intermediate'})\n",
    "for key,value in dit.items():\n",
    "  print(key,\" \",value)\n",
    "print(\"\\n\\n\")\n",
    "dit.update({'Qualification': 'High Academic Level'})\n",
    "for key,value in dit.items():\n",
    "  print(key,\" \",value)\n",
    "print(\"\\n\\n\")\n",
    "del dit['Qualification']\n",
    "for key,value in dit.items():\n",
    "  print(key,\" \",value)"
   ]
  },
  {
   "cell_type": "code",
   "execution_count": 2,
   "metadata": {},
   "outputs": [
    {
     "name": "stdout",
     "output_type": "stream",
     "text": [
      "Karachi   \n",
      "Islamabad   \n",
      "Lahore   \n",
      "\n",
      "\n",
      "\n",
      "Karachi   \n",
      "Country   Pakistan\n",
      "Population   15,741,000\n",
      "Fact   Roshniyo Ka shehr\n",
      "\n",
      "\n",
      "\n",
      "Islamabad   \n",
      "Country2   Pakistan\n",
      "Population2   1,0000\n",
      "Fact2   Mami daddy Bache\n",
      "\n",
      "\n",
      "\n",
      "Lahore   \n",
      "Country3   Pakistan\n",
      "Population3   5,741,000\n",
      "Fact3   Biryani k naam par Pulao\n"
     ]
    }
   ],
   "source": [
    "City = {'Karachi': '','Islamabad': '','Lahore': ''}\n",
    "for key,value in City.items():\n",
    "  print(key,\" \",value)\n",
    "print(\"\\n\\n\")\n",
    "count=0;\n",
    "count2=0;\n",
    "Info = {'Country' : 'Pakistan', 'Population' : '15,741,000', 'Fact': 'Roshniyo Ka shehr','Country2' : 'Pakistan', 'Population2' : '1,0000', 'Fact2': 'Mami daddy Bache','Country3' : 'Pakistan', 'Population3' : '5,741,000', 'Fact3': 'Biryani k naam par Pulao'}\n",
    "for key,value in City.items():\n",
    "  for key2,value2 in Info.items():\n",
    "    count2=count2+1\n",
    "    if count2>12:\n",
    "      count2=1\n",
    "      count=0\n",
    "      print(\"\\n\\n\")\n",
    "    if count==0:\n",
    "      print(key,\" \",value)\n",
    "      count=+1\n",
    "    if count2<=3:\n",
    "     print(key2,\" \",value2)"
   ]
  },
  {
   "cell_type": "code",
   "execution_count": 3,
   "metadata": {},
   "outputs": [
    {
     "name": "stdout",
     "output_type": "stream",
     "text": [
      "How old are you?\n",
      "Enter 'n' when you are finished. 2\n",
      "  You get in free!\n",
      "How old are you?\n",
      "Enter 'n' when you are finished. 4\n",
      "  Your ticket is $10.\n",
      "How old are you?\n",
      "Enter 'n' when you are finished. 15\n",
      "  Your ticket is $15.\n",
      "How old are you?\n",
      "Enter 'n' when you are finished. n\n"
     ]
    }
   ],
   "source": [
    "prompt = \"How old are you?\"\n",
    "prompt += \"\\nEnter 'n' when you are finished. \"\n",
    "\n",
    "while True:\n",
    "    age = input(prompt)\n",
    "    if age == 'n':\n",
    "        break\n",
    "    age = int(age)\n",
    "\n",
    "    if age < 3:\n",
    "        print(\"  You get in free!\")\n",
    "    elif age >= 3 and age <= 12:\n",
    "        print(\"  Your ticket is $10.\")\n",
    "    else:\n",
    "        print(\"  Your ticket is $15.\")"
   ]
  },
  {
   "cell_type": "code",
   "execution_count": 4,
   "metadata": {},
   "outputs": [
    {
     "name": "stdout",
     "output_type": "stream",
     "text": [
      "One of my Favorite Book title is  Java\n"
     ]
    }
   ],
   "source": [
    "def favorite_books(title):\n",
    "    print(\"One of my Favorite Book title is \",title)\n",
    "    \n",
    "favorite_books(\"Java\")"
   ]
  },
  {
   "cell_type": "code",
   "execution_count": 5,
   "metadata": {},
   "outputs": [
    {
     "name": "stdout",
     "output_type": "stream",
     "text": [
      "Guess a number between 1 and 30 until you get it right : 2\n",
      "Your guess is too low\n",
      "Guess a number between 1 and 30 until you get it right : 5\n",
      "Your guess is too low\n",
      "Guess a number between 1 and 30 until you get it right : 10\n",
      "Your guess is too low\n",
      "Guess a number between 1 and 30 until you get it right : 15\n",
      "Your guess is too low\n",
      "Guess a number between 1 and 30 until you get it right : 20\n",
      "Your guess is too high\n",
      "Guess a number between 1 and 30 until you get it right : 17\n",
      "Your guess is too low\n",
      "Guess a number between 1 and 30 until you get it right : 19\n",
      "Your guess is too high\n",
      "Guess a number between 1 and 30 until you get it right : 18\n",
      "Hit\n"
     ]
    }
   ],
   "source": [
    "import random\n",
    "\n",
    "target_num, guess_num = random.randint(1, 30), 0\n",
    "while target_num != guess_num:\n",
    "    guess_num = int(input('Guess a number between 1 and 30 until you get it right : '))\n",
    "    if guess_num == target_num:\n",
    "      print(\"Hit\")  \n",
    "    elif guess_num < target_num:\n",
    "      print(\"Your guess is too low\")\n",
    "    else:\n",
    "      print(\"Your guess is too high\")"
   ]
  },
  {
   "cell_type": "code",
   "execution_count": null,
   "metadata": {},
   "outputs": [],
   "source": []
  }
 ],
 "metadata": {
  "kernelspec": {
   "display_name": "Python 3",
   "language": "python",
   "name": "python3"
  },
  "language_info": {
   "codemirror_mode": {
    "name": "ipython",
    "version": 3
   },
   "file_extension": ".py",
   "mimetype": "text/x-python",
   "name": "python",
   "nbconvert_exporter": "python",
   "pygments_lexer": "ipython3",
   "version": "3.7.3"
  }
 },
 "nbformat": 4,
 "nbformat_minor": 2
}
