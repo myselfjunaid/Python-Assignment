{
 "cells": [
  {
   "cell_type": "code",
   "execution_count": 32,
   "metadata": {},
   "outputs": [
    {
     "name": "stdout",
     "output_type": "stream",
     "text": [
      "Enter marks of the first subject: 50\n",
      "Enter marks of the second subject: 40\n",
      "Enter marks of the third subject: 60\n",
      "Enter marks of the fourth subject: 70\n",
      "Enter marks of the fifth subject: 80\n",
      "Congratulations ! You have secured Grade D, and your percentage is  58.0\n"
     ]
    }
   ],
   "source": [
    "sub1=int(input(\"Enter marks of the first subject: \"))\n",
    "sub2=int(input(\"Enter marks of the second subject: \"))\n",
    "sub3=int(input(\"Enter marks of the third subject: \"))\n",
    "sub4=int(input(\"Enter marks of the fourth subject: \"))\n",
    "sub5=int(input(\"Enter marks of the fifth subject: \"))\n",
    "avg=(sub1+sub2+sub3+sub4+sub4)*100/500\n",
    "\n",
    "if(avg>=80):\n",
    "    \n",
    "\tprint(\"Congratulations ! You have secured Grade A, and your percentage is \", avg)\n",
    "elif(avg>=70 and avg<80):\n",
    "\tprint(\"Congratulations ! You have secured Grade B, and your percentage is \", avg )\n",
    "elif (avg>=60 and avg<70):\n",
    "\tprint(\"Congratulations ! You have secured Grade C, and your percentage is \", avg)\n",
    "elif (avg>=40 and avg<60):\n",
    "\tprint(\"Congratulations ! You have secured Grade D, and your percentage is \", avg)\n",
    "elif (avg<40):\n",
    "\tprint( \"You are fail, and your percentage is \", avg)"
   ]
  },
  {
   "cell_type": "code",
   "execution_count": 34,
   "metadata": {},
   "outputs": [
    {
     "name": "stdout",
     "output_type": "stream",
     "text": [
      "Enter a number: 3\n",
      "This is an odd number.\n"
     ]
    }
   ],
   "source": [
    "num = int(input(\"Enter a number: \"))\n",
    "mod = num % 2\n",
    "if mod > 0:\n",
    "    print(\"This is an odd number.\")\n",
    "else:\n",
    "    print(\"This is an even number.\")"
   ]
  },
  {
   "cell_type": "code",
   "execution_count": 36,
   "metadata": {},
   "outputs": [
    {
     "name": "stdout",
     "output_type": "stream",
     "text": [
      "The length of list is:  6\n"
     ]
    }
   ],
   "source": [
    "n=len([1,2,3,4,5,6])\n",
    "print(\"The length of list is: \", n) "
   ]
  },
  {
   "cell_type": "code",
   "execution_count": 37,
   "metadata": {},
   "outputs": [
    {
     "name": "stdout",
     "output_type": "stream",
     "text": [
      "The Sum of list is:  21\n"
     ]
    }
   ],
   "source": [
    "n=sum([1,2,3,4,5,6])\n",
    "print(\"The Sum of list is: \", n)"
   ]
  },
  {
   "cell_type": "code",
   "execution_count": 38,
   "metadata": {},
   "outputs": [
    {
     "name": "stdout",
     "output_type": "stream",
     "text": [
      "The Max Number of list is:  21\n"
     ]
    }
   ],
   "source": [
    "n=max([1,2,3,4,5,6,21])\n",
    "print(\"The Max Number of list is: \", n)"
   ]
  },
  {
   "cell_type": "code",
   "execution_count": 39,
   "metadata": {},
   "outputs": [
    {
     "name": "stdout",
     "output_type": "stream",
     "text": [
      "[1, 1, 2, 3]\n"
     ]
    }
   ],
   "source": [
    "a = [1, 1, 2, 3, 5, 8, 13, 21, 34, 55, 89]\n",
    "\n",
    "new_list = []\n",
    "for item in a:\n",
    "  if item < 5:\n",
    "    new_list.append(item)\n",
    "    continue\n",
    "  print(new_list)\n",
    "  break"
   ]
  },
  {
   "cell_type": "code",
   "execution_count": null,
   "metadata": {},
   "outputs": [],
   "source": []
  }
 ],
 "metadata": {
  "kernelspec": {
   "display_name": "Python 3",
   "language": "python",
   "name": "python3"
  },
  "language_info": {
   "codemirror_mode": {
    "name": "ipython",
    "version": 3
   },
   "file_extension": ".py",
   "mimetype": "text/x-python",
   "name": "python",
   "nbconvert_exporter": "python",
   "pygments_lexer": "ipython3",
   "version": "3.7.3"
  }
 },
 "nbformat": 4,
 "nbformat_minor": 2
}
